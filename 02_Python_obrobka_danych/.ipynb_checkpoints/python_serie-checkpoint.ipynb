{
 "cells": [
  {
   "cell_type": "markdown",
   "id": "3ca16e79",
   "metadata": {},
   "source": [
    "# Python jako narzędzie do serializacji zadań"
   ]
  },
  {
   "cell_type": "markdown",
   "id": "788ed37b",
   "metadata": {},
   "source": [
    "<b> jupyter notebook - przypomnienie: </b>\n",
    "\n",
    "* typ komórek w notatniku:\n",
    "  1. code -- do pisania kodu (np. w Pythonie)\n",
    "  2. markdown -- do pisania tekstu; język znaczników; rozszerzenie HTML\n",
    "      * nagłówki: \n",
    "       jeden lub więcej znak #, po nim spacja i tekst,\n",
    "       np. # To jest nagłówek\n",
    "      * wyliczenia:   \n",
    "       zaczynają się od gwiazdki (odpowiednik \\item w LaTeXu); listy zagnieżdżone przy użyciu wcięć; listy numerowane zaczynaja się od 1. 2., czyli np. 1. To jest pierwsza linijka\n",
    "      * wyrażenia w języku LaTeX: otaczane pojedynczym lub podwójnym znakiem dolara\n",
    "         * przykładowe wyrażenie otoczone pojedynczymi dolarami: $P=\\sin^2\\left ( \\frac{\\Delta m^2 L}{4E} \\right )$\n",
    "         * i podwójnymi: $$ P=\\sin^2\\left ( \\frac{\\Delta m^2 L}{4E} \\right ) $$\n",
    "          \n",
    "* wykonywanie polecenia (i przejście do kolejnej komórki): SHIFT + ENTER\n",
    "* wykonywanie polecenia (bez przejścia do kolejnej komórki): CTRL + ENTER\n",
    "       \n",
    "* Za każdym notebook'iem kryje się <b> kernel </b> -- proces odpowiedzialny za wykonanie każdej komórki i przekazanie do niej wyników; wspólny dla wszystkich komórek $\\Rightarrow$ biblioteki podłączane w jednej komórce, zmienne w niej deklarowane itp są też widoczne w innych komórkach.\n",
    "\n",
    "* <b> Nadrzędna jest kolejność wykonywania kodu w komórkach w stosunku do kolejności w jakiej są zapisane w notatniku. </b>\n",
    "\n",
    "* Jeżeli używamy wirtualnego środowiska w pythonie o (przykładowej) nazwie venv (tak jak w kontenerze NWP):\n",
    "   * W terminalu uruchamiamy skrypt: source /opt/venv/bin/activate\n",
    "   * Wirtualne środowisko (virtual environment) zmienia się w Menu: Kernel -> Change kernel -> python venv   \n",
    "   * Przedtem w bash trzeba wykonać polecenia:\n",
    "      * pip install ipykernel (jeśli wcześniej nie zainstalowane)\n",
    "      * python -m ipykernel install --user --name=venv --display-name \"python venv\"\n"
   ]
  },
  {
   "cell_type": "markdown",
   "id": "7cf11aac-483f-4137-a3f8-900eedd6bb08",
   "metadata": {},
   "source": [
    "### Zadanie 1\n",
    "\n",
    "Zamień komórkę ze standardowej (do pisania kodu - code) na komórkę do pisania tekstu (markdown). Wszystkie skróty klawiszowe można sprawdzić naciskając: Esc H  (zmiany w jedną i drugą stronę to: Esc M Esc Y). Usuwanie komórki ESC D D"
   ]
  },
  {
   "cell_type": "code",
   "execution_count": null,
   "id": "3ba5c7f5",
   "metadata": {},
   "outputs": [],
   "source": []
  },
  {
   "cell_type": "markdown",
   "id": "b0c8695a",
   "metadata": {},
   "source": [
    "## Podstawowe, modyfikowalne  struktury danych\n",
    "\n",
    "1) Standardowy Python: <b> listy </b>-- jednowymiarowe pojemniki do przechowywania obiektów mieszanych typów\n",
    "2) Biblioteka NumPy: <b> macierze numpy (numpy arrays)</b> -- pojemniki jedno- lub wielo- wymiarowe do przechowywania obiektów tego samego typu; do szybkiego wykonywania arytmetycznych operacji; zawiera funkcje matematyczne do zastosowania na całych macierzach, bez potrzeby używania struktury pętli \n",
    "3) Biblioteka Pandas: (<b> Series </b>) i <b> DataFrame </b> -- do wygodnej pracy z danymi mieszanych typów; odwoływanie się do elementów tablic za pomocą etykiet\n",
    "  * (<b> Series </b> to obiekt przypominający jednowymiarową tablicę, wartości + etykiety (index)) \n",
    "  * <b> DataFrame </b> to tabela danych; w każdej kolumnie może być wartość innego typu a indeksy nie muszą być liczbami; łatwo wczytuje się nagłówki, które mogą być użyte do indeksowania"
   ]
  },
  {
   "cell_type": "code",
   "execution_count": null,
   "id": "14260db3",
   "metadata": {},
   "outputs": [],
   "source": [
    "#listy\n",
    "# pusta lista:\n",
    "lista1=[]\n",
    "lista2=[5,6,7,9,11,16]\n",
    "lista2.append(20)\n",
    "lista2[2]=111\n",
    "print(lista2)\n",
    "print(lista2[1:3])\n",
    "# Długośc listy:\n",
    "print(\"Długość listy=\",len(lista2))\n",
    "lista3=list('Ala ma kota')\n",
    "print(lista3)\n",
    "print(lista3[-4:])\n",
    "#krotki to niemodyfikowalne listy\n",
    "# pusta krotka:\n",
    "krotka1=()\n",
    "krotka1=(45.5,67.3,2.4)\n",
    "print(krotka1)\n",
    "#słowniki (mapy) to zbiór par klucz - wartość\n",
    "# pusty słownik\n",
    "#dict1={}\n",
    "#dict2={'rok':[2020,2021,2022,2023,2024,2025],'miasto':['Warszawa','Kraków','Gdańsk']}\n",
    "#print(dict2)\n",
    "#print(dict2['rok'])"
   ]
  },
  {
   "cell_type": "code",
   "execution_count": null,
   "id": "b9326748",
   "metadata": {},
   "outputs": [],
   "source": [
    "#macierze numpy\n",
    "import numpy as np\n",
    "arr1=np.array(lista2)\n",
    "print(arr1)\n",
    "arr2=2*arr1\n",
    "print(arr2)\n",
    "arr3=np.array([[1,2,4],[3,5,7]])\n",
    "print(\"Cała macierz\")\n",
    "print(arr3)\n",
    "print(\"pierwszy wiersz\")\n",
    "print(arr3[0,:])\n",
    "print(arr3[0])\n",
    "print(\"druga kolumna\")\n",
    "print(arr3[:,1])\n",
    "# Jak sprawdzić rozmiar macierzy ? \n",
    "rozmiar=arr3.shape\n",
    "nwierszy=arr3.shape[0]\n",
    "print(\"rozmiar macierzy =\",rozmiar)"
   ]
  },
  {
   "cell_type": "code",
   "execution_count": null,
   "id": "3f9a925e",
   "metadata": {},
   "outputs": [],
   "source": [
    "# Series i DataFrame z biblioteki pandas\n",
    "import pandas as pd\n",
    "\n",
    "#serie\n",
    "s1 = pd.Series(lista2)\n",
    "print(s1)\n",
    "print(s1.values)\n",
    "print(s1.index)\n",
    "s2=pd.Series(krotka1,index=['kol1','kol2','kol3'])\n",
    "print(s2)\n",
    "\n",
    "#ramki danych - prostokątne tabele danych; w każdej kolumnie mogą być dane innego typu\n",
    "dane={'rok':[2020,2021,2022,2023,2024,2025],\n",
    "        'miasto':['Gdańsk','Gdańsk','Gdańsk','Katowice','Katowice','Katowice'],\n",
    "        'miejsce':[2,3,1,1,2,5]}\n",
    "df1=pd.DataFrame(dane)\n",
    "print(df1)\n",
    "print(df1.values)\n",
    "print(df1.index)"
   ]
  },
  {
   "cell_type": "markdown",
   "id": "6b2e0d14-cc86-4caf-8f6a-0ddd212048be",
   "metadata": {},
   "source": [
    "## Uruchamianie systemowych poleceń na Linuxie z wnętrza notatnika, poprzez wstawienie ! przed poleceniem, np:\n",
    " * kopiowanie w systemie Linux:\n",
    "   * !cp alpha.txt beta.txt\n",
    " * kopiowanie w systemie Windows\n",
    "   * !copy alpha.txt beta.txt"
   ]
  },
  {
   "cell_type": "code",
   "execution_count": null,
   "id": "187f2280-6fe0-4174-a2e7-10f0060a446d",
   "metadata": {},
   "outputs": [],
   "source": [
    "!pwd"
   ]
  },
  {
   "cell_type": "markdown",
   "id": "c78f1b32-9497-4940-84fe-3533d76e2440",
   "metadata": {},
   "source": [
    "## Metoda uruchamiania systemowych poleceń nie tylko w notatniku:"
   ]
  },
  {
   "cell_type": "code",
   "execution_count": null,
   "id": "df817745-30f4-49c6-b32c-48df67628348",
   "metadata": {},
   "outputs": [],
   "source": [
    "import os\n",
    "#os.system(\"cp alpha.txt beta.txt\") # Linux\n",
    "#os.system(\"copy alpha.txt beta.txt\")  # Windows\n",
    "os.system(\"pwd\")"
   ]
  },
  {
   "cell_type": "markdown",
   "id": "821f2979",
   "metadata": {},
   "source": [
    "## Dodawanie bibliotek, wspólne dla wszystkich zadań"
   ]
  },
  {
   "cell_type": "code",
   "execution_count": null,
   "id": "1affedd7-0c06-4de0-afff-f28293ccf5ac",
   "metadata": {},
   "outputs": [],
   "source": [
    "#Dodawanie bibliotek, których będziemy używać\n",
    "import numpy as np\n",
    "import matplotlib.pyplot as plt\n",
    "import pandas as pd\n",
    "import os"
   ]
  },
  {
   "cell_type": "markdown",
   "id": "5aa63573",
   "metadata": {},
   "source": [
    "### Zadanie 2 Wczytywanie danych z pliku do macierzy Numpy i rysowanie wykresu "
   ]
  },
  {
   "cell_type": "markdown",
   "id": "9d36d11f",
   "metadata": {},
   "source": [
    "W katalogu o nazwie pliki znajduje się N plików o nazwach dane0.txt, dane1.txt, ..., daneN.txt z wynikami pomiarów dla filtru dolnoprzepustowego RC. W każdym pliku są cztery kolumny: częstotliwość, amplituda napięcia wejściowego, amplituda napięcia wyjściowego i różnica faz. \n",
    "\n",
    "Za pomocą funkcji loadtxt z biblioteki Numpy wczytaj pierwszy plik (dane0.txt). Stwórz macierz T ze stosunkiem napięcia wyjściowego do wejściowego i używając biblioteki Matplotlib narysuj T w funkcji  częstotliwości.\n",
    "Nie łącz punktów linią. Zmień skalę poziomej osi na logarytmiczną. Opisz osie."
   ]
  },
  {
   "cell_type": "code",
   "execution_count": null,
   "id": "c446ea32",
   "metadata": {},
   "outputs": [],
   "source": []
  },
  {
   "cell_type": "markdown",
   "id": "55e92265",
   "metadata": {},
   "source": [
    "### Przykład: tworzenie serii plików do użycia w dalszych zadaniach "
   ]
  },
  {
   "cell_type": "code",
   "execution_count": null,
   "id": "5de7d4bf",
   "metadata": {
    "scrolled": true
   },
   "outputs": [],
   "source": [
    "# Tworzenie serii plików wypełnionych losowymi liczbami\n",
    "# Usuwanie starych plików, jeśli takie są\n",
    "os.system(\"rm -f plik*.txt\")\n",
    "\n",
    "# Tworzenie plików z losowymi liczbami wygenerowanymi z rozkładu normalnego\n",
    "def generuj(Nplik,mean,sigma,Nentries):\n",
    "  for i in range(0,Nplik): \n",
    "    #Generowanie danych z rozkładu normalnego\n",
    "    data=np.random.normal(mean,sigma,Nentries)\n",
    "    #Tworzenie nazw plików za pomocą tzw. f-stringu\n",
    "    filename=f'plik{i}.txt'\n",
    "    #Zapisywanie do pliku\n",
    "    np.savetxt(filename,data)    \n",
    "   \n",
    "generuj(25,5,1,500) \n",
    "\n",
    "\n",
    "# Tworzenie i rysowanie histogramów powstałych z danych z każdego pliku\n",
    "nw=5\n",
    "nk=5\n",
    "\n",
    "\n",
    "def rysuj(Nplik):\n",
    "  # axes - dwuwymiarowa tablica, .flat -> wypłaszczenie tablicy \n",
    "  fig,axes=plt.subplots(nrows=nw,ncols=nk,figsize=(15,15))\n",
    "  for i,ax in enumerate(axes.flat[:Nplik]):\n",
    "    data = np.loadtxt(f'plik{i}.txt')\n",
    "    ax.hist(data,bins=10)\n",
    "   \n",
    "rysuj(25) \n",
    "\n"
   ]
  },
  {
   "cell_type": "markdown",
   "id": "d6ae4892",
   "metadata": {},
   "source": [
    "### Zadanie 3\n",
    "\n",
    "Mamy N=10 plików o nazwach: nowe1.txt, nowe2.txt, ... , nowe10.txt. Stwórz listę z nazwami tych (N) plików. Nazwy plików zapisuj w postaci f-stringu. Nie używaj żadnej dodatkowej biblioteki."
   ]
  },
  {
   "cell_type": "code",
   "execution_count": null,
   "id": "d90b6db9",
   "metadata": {},
   "outputs": [],
   "source": [
    "       "
   ]
  },
  {
   "cell_type": "markdown",
   "id": "0f7d1417",
   "metadata": {},
   "source": [
    "### Przykład\n",
    "Modyfikacja zadania 2: w katalogu mamy nieznaną liczbę plików (z przykładu powyżej). Wypisz ile plików zostało znalezionych (jaka jest długość listy)"
   ]
  },
  {
   "cell_type": "code",
   "execution_count": null,
   "id": "c4377ec5",
   "metadata": {},
   "outputs": [],
   "source": [
    "# Wersja, gdy nie znamy liczby plików\n",
    "import glob\n",
    "filenames_gen=sorted(glob.glob('plik*.txt'))\n",
    "print(f'Mamy {len(filenames_gen)} plików')    "
   ]
  },
  {
   "cell_type": "markdown",
   "id": "dc24a914",
   "metadata": {},
   "source": [
    "### Zadanie 4 Policzenie średnich wartości dla każdego pliku i zrobienie rozkładu (histogramu) wartości średniej \n",
    "Jeśli srednie to lista, to rozkład wartości średnich robi się za pomocą polecenia:\n",
    "plt.hist(srednie) a zakres wartości na osi poziomej można zmienić pisząc: plt.xlim(4,6) \n"
   ]
  },
  {
   "cell_type": "code",
   "execution_count": null,
   "id": "9271418d",
   "metadata": {
    "scrolled": true
   },
   "outputs": [],
   "source": [
    "# Wczytaj pliki w pętli;  użyj funkcji load i mean z biblioteki Numpy \n",
    "\n",
    "\n",
    "# Usuwanie plików na koniec   \n",
    "os.system(\"rm -f plik*.txt\")"
   ]
  },
  {
   "cell_type": "markdown",
   "id": "1df202c4",
   "metadata": {},
   "source": [
    "### Zadanie 5\n",
    "W katalogu o nazwie pliki znajduje się N plików o nazwach dane0.txt, dane1.txt, ..., daneN.txt z wynikami pomiarów dla filtru dolnoprzepustowego RC. W każdym pliku są cztery kolumny: częstotliwość, amplituda napięcia wejściowego, amplituda napięcia wyjściowego i różnica faz.\n",
    "\n",
    "Wczytaj dane ze wszystkich plików i dla każdej częstotliwości policz średnią wartość amplitudy wyjściowego napięcia z N pomiarów (= z N plików) i błąd wartości średniej.\n"
   ]
  },
  {
   "cell_type": "code",
   "execution_count": null,
   "id": "fb63f953",
   "metadata": {},
   "outputs": [],
   "source": [
    "\n"
   ]
  },
  {
   "cell_type": "markdown",
   "id": "769fb76a",
   "metadata": {},
   "source": [
    "### Zadanie 6\n",
    "Rozszerzenie zadania 6: wczytaj dane ze wszystkich plików do macierzy trójwymiarowej (trzeci wymiar to lista plików). W tym celu możesz wczytać macierze do listy, a następnie użyć funkcji stack z biblioteki Numpy.\n",
    "Sprawdź rozmiar macierzy, dla każdej częstotliwości policz średnią wartość amplitudy wyjściowego napięcia z N pomiarów (= z N plików) i błąd wartości średniej. Wykorzystaj funkcje np.mean i np.sum. Nigdzie nie powinna zostać użyta struktura pętli\n"
   ]
  },
  {
   "cell_type": "code",
   "execution_count": null,
   "id": "ffff17af",
   "metadata": {},
   "outputs": [],
   "source": []
  },
  {
   "cell_type": "markdown",
   "id": "db7d8967",
   "metadata": {},
   "source": [
    "### Przykład ze strukturami DataFrame z biblioteki Pandas\n",
    "\n",
    "Plik people2.dat znajduje się w lokalizacji  https://www.fuw.edu.pl/~kaste/people2.dat\n",
    "Wczytujemy go wprost z podanego linku do DataFrame z biblioteki Pandas. Domyślnie pierwszy wiersz jest traktowany jako nagłówki kolumn, a indeksy wierszy to kolejne liczby całkowite"
   ]
  },
  {
   "cell_type": "code",
   "execution_count": null,
   "id": "28f8ca96",
   "metadata": {},
   "outputs": [],
   "source": [
    "# Wczytywanie danych z pliku tekstowego, gdzie separatorem jest tabulator; przy czytaniu pomijana jest linijka \n",
    "# z samymi kreskami; nagłówki są używane jako indeksy, separatorem jest tabulator(\\t). \n",
    "# Domyślny separator to przecinek.  \n",
    "df=pd.read_csv('https://www.fuw.edu.pl/~kaste/people2.dat', sep='\\t',skiprows=[1])\n",
    "# df=pd.read_csv('people2.dat', sep='\\t',skiprows=[1],index_col=)\n",
    "# Wypisujemy całość z nagłówkami\n",
    "print(df)\n",
    "# A teraz wypisujemy same wartości w postaci numpy array\n",
    "print(df.values)\n",
    "# wybieramy z pliku linijki zawierające informacje o kobietach ...\n",
    "df2=df[df['Gender']=='Female']\n",
    "print(df2)\n",
    "# ... i o ludziach młodszych niż 20 lat\n",
    "df3=df[df['Age']<20]\n",
    "print(df3)\n",
    "# Wybieramy kolumny i wiersze: \n",
    "# df.loc[etykieta] -- wybieranie wierszy \n",
    "# df.loc[:,etykieta] -- wybieranie kolumn\n",
    "# df.loc[etykieta1,etykieta2] -- wybieranie wierszy i kolumn\n",
    "# Analogicznie df.iloc, ale zamiast etykiety używana jest liczba okreslajaca pozycję\n",
    "print(df.loc[:,'Name'])\n",
    "print(df.iloc[:,0])\n",
    "print(df.loc[0])\n",
    "print(df.iloc[[1,2],[1,2]])\n",
    "      "
   ]
  },
  {
   "cell_type": "code",
   "execution_count": null,
   "id": "bbdc7420-18ae-4fcf-b2b2-f7a98df8fb0b",
   "metadata": {},
   "outputs": [],
   "source": [
    "# Jeśli w pliku nie ma nagłówków\n",
    "dfnoheader=pd.read_csv('people3.dat',sep='\\t',header=None)\n",
    "print(dfnoheader)"
   ]
  },
  {
   "cell_type": "markdown",
   "id": "fbc74983",
   "metadata": {},
   "source": [
    "### Przykład + zadanie\n",
    "Wczytujemy do DataFrame zawartość pliku covid3.txt (separatorem są białe znaki (\\s+)) z danymi dotyczącymi zachorowań w Polsce na początku pandemii. W pliku znajdują się trzy kolumny: numer dnia poczynając od 2.01.2020, liczba potwierdzonych przypadków zachorowań i liczba osób, które wyzdrowiały. Dane z serwisu kaggle. Narysuj  zależność liczby zachorowań, liczby osób które wyzdrowiały i liczby aktualnie chorych w funkcji numeru dnia. Dodaj legendę."
   ]
  },
  {
   "cell_type": "code",
   "execution_count": null,
   "id": "646e2d8d-dccc-494f-b496-387e77a9acb3",
   "metadata": {
    "scrolled": true
   },
   "outputs": [],
   "source": [
    "# wczytujemy plik, gdzie separatorem jest jeden lub więcej białych znaków (\\s+)\n",
    "# W pliku covid3.txt znajdują \n",
    "dfcovid=pd.read_csv('covid3.txt',sep=r\"\\s+\",header=None)\n",
    "#print(dfcovid)\n",
    "# Dodajemy nagłówki\n",
    "headers=['nday','confirmed','recovered']\n",
    "dfcovid.columns=headers\n",
    "print(dfcovid)\n",
    "\n"
   ]
  }
 ],
 "metadata": {
  "kernelspec": {
   "display_name": "Python 3 (ipykernel)",
   "language": "python",
   "name": "python3"
  },
  "language_info": {
   "codemirror_mode": {
    "name": "ipython",
    "version": 3
   },
   "file_extension": ".py",
   "mimetype": "text/x-python",
   "name": "python",
   "nbconvert_exporter": "python",
   "pygments_lexer": "ipython3",
   "version": "3.12.3"
  }
 },
 "nbformat": 4,
 "nbformat_minor": 5
}
