{
 "cells": [
  {
   "cell_type": "markdown",
   "id": "3ca16e79",
   "metadata": {},
   "source": [
    "# Python jako narzędzie do wykonywania serii zadań"
   ]
  },
  {
   "cell_type": "markdown",
   "id": "788ed37b",
   "metadata": {},
   "source": [
    "<b> jupyter notebook - przypomnienie: </b>\n",
    "\n",
    "* typ komórek w notatniku:\n",
    "  1. code -- do pisania kodu (np. w Pythonie)\n",
    "  2. markdown -- do pisania tekstu; język znaczników; rozszerzenie HTML\n",
    "      * nagłówki: \n",
    "       jeden lub więcej znak #, po nim spacja i tekst,\n",
    "       np. # To jest nagłówek\n",
    "      * wyliczenia:   \n",
    "       zaczynają się od gwiazdki (odpowiednik \\item w LaTeXu); listy zagnieżdżone przy użyciu wcięć; listy numerowane zaczynaja się od 1. 2., czyli np. 1. To jest pierwsza linijka\n",
    "      * wyrażenia w języku LaTeX: otaczane pojedynczym lub podwójnym znakiem dolara\n",
    "         * przykładowe wyrażenie otoczone pojedynczymi dolarami: $P=\\sin^2\\left ( \\frac{\\Delta m^2 L}{4E} \\right )$\n",
    "         * i podwójnymi: $$ P=\\sin^2\\left ( \\frac{\\Delta m^2 L}{4E} \\right ) $$\n",
    "          \n",
    "* wykonywanie polecenia (i przejście do kolejnej komórki): SHIFT + ENTER\n",
    "* wykonywanie polecenia (bez przejścia do kolejnej komórki): CTRL + ENTER\n",
    "       \n",
    "* Za każdym notebook'iem kryje się <b> kernel </b> -- proces odpowiedzialny za wykonanie każdej komórki i przekazanie do niej wyników; wspólny dla wszystkich komórek $\\Rightarrow$ biblioteki podłączane w jednej komórce, zmienne w niej deklarowane itp są też widoczne w innych komórkach.\n",
    "\n",
    "* <b> Nadrzędna jest kolejność wykonywania kodu w komórkach w stosunku do kolejności w jakiej są zapisane w notatniku. </b>\n",
    "\n",
    "* Jeżeli używamy wirtualnego środowiska w pythonie o (przykładowej) nazwie venv (tak jak w kontenerze NWP):\n",
    "   * W terminalu uruchamiamy skrypt: source /opt/venv/bin/activate\n",
    "   * Wirtualne środowisko (virtual environment) zmienia się w Menu: Kernel -> Change kernel -> python venv   \n",
    "   * Przedtem w bash trzeba wykonać polecenia:\n",
    "      * pip install ipykernel (jeśli wcześniej nie zainstalowane)\n",
    "      * python -m ipykernel install --user --name=venv --display-name \"python venv\"\n"
   ]
  },
  {
   "cell_type": "markdown",
   "id": "7cf11aac-483f-4137-a3f8-900eedd6bb08",
   "metadata": {},
   "source": [
    "### Zadanie 1\n",
    "\n",
    "Zamień komórkę ze standardowej (do pisania kodu - code) na komórkę do pisania tekstu (markdown). Wszystkie skróty klawiszowe można sprawdzić naciskając: Esc H  (zmiany w jedną i drugą stronę to: Esc M Esc Y). Usuwanie komórki ESC D D Napisz w komórce w LaTeX'u jedynkę trygonometryczną"
   ]
  },
  {
   "cell_type": "code",
   "execution_count": null,
   "id": "3ba5c7f5",
   "metadata": {},
   "outputs": [],
   "source": []
  },
  {
   "cell_type": "markdown",
   "id": "b0c8695a",
   "metadata": {},
   "source": [
    "## Podstawowe, modyfikowalne  struktury danych\n",
    "\n",
    "1) Standardowy Python: <b> listy </b>-- jednowymiarowe pojemniki do przechowywania obiektów mieszanych typów\n",
    "2) Biblioteka NumPy: <b> macierze numpy (numpy arrays)</b> -- pojemniki jedno- lub wielo- wymiarowe do przechowywania obiektów tego samego typu; do szybkiego wykonywania arytmetycznych operacji; zawiera funkcje matematyczne do zastosowania na całych macierzach, bez potrzeby używania struktury pętli \n",
    "3) Biblioteka Pandas: (<b> Series </b>) i <b> DataFrame </b> -- do wygodnej pracy z danymi mieszanych typów; odwoływanie się do elementów tablic za pomocą etykiet\n",
    "  * (<b> Series </b> to obiekt przypominający jednowymiarową tablicę, wartości + etykiety (index)) \n",
    "  * <b> DataFrame </b> to tabela danych; w każdej kolumnie może być wartość innego typu a indeksy nie muszą być liczbami; łatwo wczytuje się nagłówki, które mogą być użyte do indeksowania"
   ]
  },
  {
   "cell_type": "markdown",
   "id": "b31461cc",
   "metadata": {},
   "source": [
    "### Krótkie powtórzenie: listy, macierze numpy, ramki danych "
   ]
  },
  {
   "cell_type": "code",
   "execution_count": null,
   "id": "14260db3",
   "metadata": {},
   "outputs": [],
   "source": [
    "#listy\n",
    "# pusta lista:\n",
    "lista1=[]\n",
    "lista2=[5,6,7,9,11,16]\n",
    "lista2.append(20)\n",
    "lista2[2]=111\n",
    "print(lista2)\n",
    "print(lista2[1:3])\n",
    "# Długośc listy:\n",
    "print(\"Długość listy=\",len(lista2))\n",
    "lista3=list('Ala ma kota')\n",
    "print(lista3)\n",
    "print(lista3[-4:])\n",
    "#krotki to niemodyfikowalne listy\n",
    "# pusta krotka:\n",
    "krotka1=()\n",
    "krotka1=(45.5,67.3,2.4)\n",
    "print(krotka1)\n",
    "#słowniki (mapy) to zbiór par klucz - wartość\n",
    "# pusty słownik\n",
    "#dict1={}\n",
    "#dict2={'rok':[2020,2021,2022,2023,2024,2025],'miasto':['Warszawa','Kraków','Gdańsk']}\n",
    "#print(dict2)\n",
    "#print(dict2['rok'])"
   ]
  },
  {
   "cell_type": "code",
   "execution_count": null,
   "id": "b9326748",
   "metadata": {},
   "outputs": [],
   "source": [
    "#macierze numpy\n",
    "import numpy as np\n",
    "arr1=np.array(lista2)\n",
    "print(arr1)\n",
    "arr2=2*arr1\n",
    "print(arr2)\n",
    "arr3=np.array([[1,2,4],[3,5,7]])\n",
    "print(\"Cała macierz\")\n",
    "print(arr3)\n",
    "print(\"pierwszy wiersz\")\n",
    "print(arr3[0,:])\n",
    "print(arr3[0])\n",
    "print(\"druga kolumna\")\n",
    "print(arr3[:,1])\n",
    "# Jak sprawdzić rozmiar macierzy ? \n",
    "rozmiar=arr3.shape\n",
    "nwierszy=arr3.shape[0]\n",
    "print(\"rozmiar macierzy =\",rozmiar)"
   ]
  },
  {
   "cell_type": "code",
   "execution_count": null,
   "id": "3f9a925e",
   "metadata": {},
   "outputs": [],
   "source": [
    "# Series i DataFrame z biblioteki pandas\n",
    "import pandas as pd\n",
    "\n",
    "#serie\n",
    "s1 = pd.Series(lista2)\n",
    "print(s1)\n",
    "print(s1.values)\n",
    "print(s1.index)\n",
    "s2=pd.Series(krotka1,index=['kol1','kol2','kol3'])\n",
    "print(s2)\n",
    "\n",
    "#ramki danych - prostokątne tabele danych; w każdej kolumnie mogą być dane innego typu\n",
    "dane={'rok':[2020,2021,2022,2023,2024,2025],\n",
    "        'miasto':['Gdańsk','Gdańsk','Gdańsk','Katowice','Katowice','Katowice'],\n",
    "        'miejsce':[2,3,1,1,2,5]}\n",
    "df1=pd.DataFrame(dane)\n",
    "print(df1)\n",
    "print(df1.values)\n",
    "print(df1.index)"
   ]
  },
  {
   "cell_type": "markdown",
   "id": "6b2e0d14-cc86-4caf-8f6a-0ddd212048be",
   "metadata": {},
   "source": [
    "## Uruchamianie systemowych poleceń na Linuxie z wnętrza notatnika, poprzez wstawienie ! przed poleceniem, np:\n",
    " * kopiowanie w systemie Linux:\n",
    "   * !cp alpha.txt beta.txt\n",
    " * kopiowanie w systemie Windows\n",
    "   * !copy alpha.txt beta.txt"
   ]
  },
  {
   "cell_type": "code",
   "execution_count": null,
   "id": "187f2280-6fe0-4174-a2e7-10f0060a446d",
   "metadata": {},
   "outputs": [],
   "source": [
    "!pwd"
   ]
  },
  {
   "cell_type": "markdown",
   "id": "c78f1b32-9497-4940-84fe-3533d76e2440",
   "metadata": {},
   "source": [
    "## Metoda uruchamiania systemowych poleceń nie tylko w notatniku:"
   ]
  },
  {
   "cell_type": "code",
   "execution_count": null,
   "id": "df817745-30f4-49c6-b32c-48df67628348",
   "metadata": {},
   "outputs": [],
   "source": [
    "import os\n",
    "#os.system(\"cp alpha.txt beta.txt\") # Linux\n",
    "#os.system(\"copy alpha.txt beta.txt\")  # Windows\n",
    "os.system(\"pwd\")"
   ]
  },
  {
   "cell_type": "markdown",
   "id": "821f2979",
   "metadata": {},
   "source": [
    "## Dodawanie bibliotek, wspólne dla wszystkich zadań"
   ]
  },
  {
   "cell_type": "code",
   "execution_count": null,
   "id": "1affedd7-0c06-4de0-afff-f28293ccf5ac",
   "metadata": {},
   "outputs": [],
   "source": [
    "#Dodawanie bibliotek, których będziemy używać\n",
    "import numpy as np\n",
    "import matplotlib.pyplot as plt\n",
    "import pandas as pd\n",
    "import os"
   ]
  },
  {
   "cell_type": "markdown",
   "id": "5aa63573",
   "metadata": {},
   "source": [
    "### Zadanie 2 Wczytywanie danych z pliku do macierzy Numpy i rysowanie wykresu "
   ]
  },
  {
   "cell_type": "markdown",
   "id": "9d36d11f",
   "metadata": {},
   "source": [
    "W katalogu o nazwie pliki znajduje się N plików o nazwach dane0.txt, dane1.txt, ..., daneN.txt z wynikami pomiarów dla filtru dolnoprzepustowego RC. W każdym pliku są cztery kolumny: częstotliwość, amplituda napięcia wejściowego, amplituda napięcia wyjściowego i różnica faz. \n",
    "\n",
    "Za pomocą funkcji loadtxt z biblioteki Numpy wczytaj pierwszy plik (dane0.txt). Stwórz macierz T ze stosunkiem napięcia wyjściowego do wejściowego i używając biblioteki Matplotlib narysuj T w funkcji  częstotliwości.\n",
    "Nie łącz punktów linią. Zmień skalę poziomej osi na logarytmiczną. Opisz osie."
   ]
  },
  {
   "cell_type": "code",
   "execution_count": null,
   "id": "c446ea32",
   "metadata": {},
   "outputs": [],
   "source": []
  },
  {
   "cell_type": "markdown",
   "id": "55e92265",
   "metadata": {},
   "source": [
    "### Przykład: tworzenie serii plików do użycia w dalszych zadaniach "
   ]
  },
  {
   "cell_type": "code",
   "execution_count": null,
   "id": "5de7d4bf",
   "metadata": {
    "scrolled": true
   },
   "outputs": [],
   "source": [
    "# Tworzenie serii plików wypełnionych losowymi liczbami\n",
    "# Usuwanie starych plików, jeśli takie są\n",
    "os.system(\"rm -f plik*.txt\")\n",
    "\n",
    "# Tworzenie plików z losowymi liczbami wygenerowanymi z rozkładu normalnego\n",
    "def generuj(Nplik,mean,sigma,Nentries):\n",
    "  for i in range(0,Nplik): \n",
    "    #Generowanie danych z rozkładu normalnego\n",
    "    data=np.random.normal(mean,sigma,Nentries)\n",
    "    #Tworzenie nazw plików za pomocą tzw. f-stringu\n",
    "    filename=f'plik{i}.txt'\n",
    "    #Zapisywanie do pliku\n",
    "    np.savetxt(filename,data)    \n",
    "   \n",
    "generuj(25,5,1,500) \n",
    "\n",
    "\n",
    "# Tworzenie i rysowanie histogramów powstałych z danych z każdego pliku\n",
    "nw=5\n",
    "nk=5\n",
    "\n",
    "\n",
    "def rysuj(Nplik):\n",
    "  # axes - dwuwymiarowa tablica, .flat -> wypłaszczenie tablicy \n",
    "  fig,axes=plt.subplots(nrows=nw,ncols=nk,figsize=(15,15))\n",
    "  for i,ax in enumerate(axes.flat[:Nplik]):\n",
    "    data = np.loadtxt(f'plik{i}.txt')\n",
    "    ax.hist(data,bins=10)\n",
    "   \n",
    "rysuj(25) \n",
    "\n"
   ]
  },
  {
   "cell_type": "markdown",
   "id": "d6ae4892",
   "metadata": {},
   "source": [
    "### Zadanie 3\n",
    "\n",
    "Mamy N=10 plików o nazwach: nowe1.txt, nowe2.txt, ... , nowe10.txt. Stwórz listę z nazwami tych (N) plików. Nazwy plików zapisuj w postaci f-stringu. Nie używaj żadnej dodatkowej biblioteki."
   ]
  },
  {
   "cell_type": "code",
   "execution_count": null,
   "id": "d90b6db9",
   "metadata": {},
   "outputs": [],
   "source": [
    "# Wersja, gdy znamy liczbę plików\n",
    "# Definiujemy ile mamy plików\n",
    "num=10\n",
    "# Tworzymy pustą listę\n",
    "pliki=[]\n",
    "for i in range(1,num+1):\n",
    "    filename=f'nowe{i}.txt'\n",
    "    # Dodajemy kolejne napisy (nazwy plików) do listy\n",
    "    pliki.append(filename)\n",
    "    \n",
    "print(f'Mamy {len(pliki)} plików')   "
   ]
  },
  {
   "cell_type": "code",
   "execution_count": null,
   "id": "1e150974",
   "metadata": {},
   "outputs": [],
   "source": [
    "# Skrótowy zapis tego, co powyżej\n",
    "pliki2=[f'inne{i}.txt' for i in range(1,num+1)]\n",
    "\n",
    "print(f'Mamy {len(pliki2)} plików') "
   ]
  },
  {
   "cell_type": "markdown",
   "id": "0f7d1417",
   "metadata": {},
   "source": [
    "### Przykład\n",
    "Modyfikacja zadania 2: w katalogu mamy nieznaną liczbę plików (z przykładu powyżej). Wypisz ile plików zostało znalezionych (jaka jest długość listy)"
   ]
  },
  {
   "cell_type": "code",
   "execution_count": null,
   "id": "c4377ec5",
   "metadata": {},
   "outputs": [],
   "source": [
    "# Wersja, gdy nie znamy liczby plików\n",
    "import glob\n",
    "filenames_gen=sorted(glob.glob('plik*.txt'))\n",
    "print(f'Mamy {len(filenames_gen)} plików')    "
   ]
  },
  {
   "cell_type": "markdown",
   "id": "dc24a914",
   "metadata": {},
   "source": [
    "### Zadanie 4 Policzenie średnich wartości dla każdego pliku i zrobienie rozkładu (histogramu) wartości średniej \n",
    "Jeśli srednie to lista, to rozkład wartości średnich robi się za pomocą polecenia:\n",
    "plt.hist(srednie) a zakres wartości na osi poziomej można zmienić pisząc: plt.xlim(4,6) \n"
   ]
  },
  {
   "cell_type": "code",
   "execution_count": null,
   "id": "9271418d",
   "metadata": {
    "scrolled": true
   },
   "outputs": [],
   "source": [
    "# Wczytaj pliki w pętli;  użyj funkcji loadtxt i mean z biblioteki Numpy \n",
    "\n",
    "srednie=[]\n",
    "for filename in filenames_gen:\n",
    "    data=np.loadtxt(filename)\n",
    "    srednia=np.mean(data)\n",
    "    srednie.append(srednia)\n",
    "plt.xlim(4,6) \n",
    "\n",
    "print(len(srednie))\n",
    "# Rozkład wartości średnich\n",
    "plt.hist(srednie) \n",
    "# Usuwanie plików na koniec   \n",
    "os.system(\"rm -f plik*.txt\")"
   ]
  },
  {
   "cell_type": "markdown",
   "id": "1df202c4",
   "metadata": {},
   "source": [
    "### Zadanie 5\n",
    "W katalogu o nazwie pliki znajduje się N plików o nazwach dane0.txt, dane1.txt, ..., daneN.txt z wynikami pomiarów dla filtru dolnoprzepustowego RC. W każdym pliku są cztery kolumny: częstotliwość, amplituda napięcia wejściowego, amplituda napięcia wyjściowego i różnica faz.\n",
    "\n",
    "Wczytaj dane ze wszystkich plików i dla każdej częstotliwości policz średnią wartość amplitudy wyjściowego napięcia z N pomiarów (= z N plików) i błąd wartości średniej.\n"
   ]
  },
  {
   "cell_type": "code",
   "execution_count": null,
   "id": "fb63f953",
   "metadata": {},
   "outputs": [],
   "source": [
    "#1) Stwórz listę z nazwami wszystkich plików (-> przykład z biblioteką glob)\n",
    "\n",
    "#2) Wczytaj do macierzy numpy pierwszy plik i znajdź liczbę wierszy (jeden z rozmiarów macierzy, \n",
    "# w każdym pliku jest taka sama)\n",
    "\n",
    "#3) W pętli po liście z nazwami plików z pierwszego punktu:\n",
    "#     wczytuj dane z pliku do macierzy numpy; bez użycia pętli policz dla każdej częstotliwości \n",
    "# średnią wartość amplitudy napięcia wyjściowego (średnia po plikach)\n",
    "\n",
    "\n",
    "\n"
   ]
  },
  {
   "cell_type": "markdown",
   "id": "769fb76a",
   "metadata": {},
   "source": [
    "### Zadanie 6\n",
    "Rozszerzenie zadania 6: wczytaj dane ze wszystkich plików do macierzy trójwymiarowej (trzeci wymiar to lista plików). W tym celu możesz wczytać dwuwymiarowe macierze do listy, a następnie użyć funkcji stack z biblioteki Numpy.\n",
    "Sprawdź rozmiar macierzy, dla każdej częstotliwości policz średnią wartość amplitudy wyjściowego napięcia z N pomiarów (= z N plików) i błąd wartości średniej. Wykorzystaj funkcje np.mean i np.sum. Nigdzie nie powinna zostać użyta struktura pętli\n"
   ]
  },
  {
   "cell_type": "code",
   "execution_count": null,
   "id": "ffff17af",
   "metadata": {},
   "outputs": [],
   "source": [
    "import glob\n",
    "# Tworzenie listy z nazwami plików\n",
    "filenames = sorted(glob.glob(\"pliki/dane*.txt\"))\n",
    "nfiles=len(filenames)\n",
    "\n",
    "# Tworzenie listy dwuwymiarowych macierzy\n",
    "data_list=[np.loadtxt(filename,skiprows=2) for filename in filenames]\n",
    "\n",
    "# Tworzenie trójwymiarowej macierzy z listy\n",
    "data_array=np.stack(data_list)\n",
    "print(data_array.shape)\n",
    "\n",
    "# Średnie po plikach (axis=0)\n",
    "\n",
    "mean_all = np.mean(data_array,axis=0)\n",
    "\n",
    "# print(mean_all)\n",
    "n = data_array.shape[0]\n",
    "print(\"Liczba plików= \",n)\n",
    "\n",
    "# Błędy ...\n",
    "\n",
    "\n",
    "\n",
    "\n"
   ]
  },
  {
   "cell_type": "markdown",
   "id": "db7d8967",
   "metadata": {},
   "source": [
    "### Przykład ze strukturami DataFrame z biblioteki Pandas\n",
    "\n",
    "Plik people2.dat znajduje się w lokalizacji  https://www.fuw.edu.pl/~kaste/people2.dat\n",
    "Wczytujemy go wprost z podanego linku do DataFrame z biblioteki Pandas. Domyślnie pierwszy wiersz jest traktowany jako nagłówki kolumn, a indeksy wierszy to kolejne liczby całkowite"
   ]
  },
  {
   "cell_type": "code",
   "execution_count": null,
   "id": "28f8ca96",
   "metadata": {},
   "outputs": [],
   "source": [
    "# Wczytywanie danych z pliku tekstowego, gdzie separatorem jest tabulator; przy czytaniu pomijana jest linijka \n",
    "# z samymi kreskami; nagłówki są używane jako indeksy, separatorem jest tabulator(\\t). \n",
    "# Domyślny separator to przecinek.  \n",
    "# Można ściągnąć plik od razu z internetu !\n",
    "#df=pd.read_csv('https://www.fuw.edu.pl/~kaste/people2.dat', sep='\\t',skiprows=[1])\n",
    "df=pd.read_csv('people2.dat', sep='\\t',skiprows=[1])\n",
    "# df=pd.read_csv('people2.dat', sep='\\t',skiprows=[1],index_col=)\n",
    "# Wypisujemy całość z nagłówkami\n",
    "print(df)\n",
    "# A teraz wypisujemy same wartości w postaci numpy array\n",
    "print(df.values)\n",
    "# wybieramy z pliku linijki zawierające informacje o kobietach ...\n",
    "df2=df[df['Gender']=='Female']\n",
    "print(df2)\n",
    "# ... i o ludziach młodszych niż 20 lat\n",
    "df3=df[df['Age']<20]\n",
    "print(df3)\n",
    "# Wybieramy kolumny i wiersze: \n",
    "# df.loc[etykieta] -- wybieranie wierszy \n",
    "# df.loc[:,etykieta] -- wybieranie kolumn\n",
    "# df.loc[etykieta1,etykieta2] -- wybieranie wierszy i kolumn\n",
    "# Analogicznie df.iloc, ale zamiast etykiety używana jest liczba okreslajaca pozycję\n",
    "print(df.loc[:,'Name'])\n",
    "print(df.iloc[:,0])\n",
    "print(df.loc[0])\n",
    "print(df.iloc[[1,2],[1,2]])\n",
    "      "
   ]
  },
  {
   "cell_type": "code",
   "execution_count": null,
   "id": "bbdc7420-18ae-4fcf-b2b2-f7a98df8fb0b",
   "metadata": {
    "scrolled": true
   },
   "outputs": [],
   "source": [
    "# Jeśli w pliku nie ma nagłówków\n",
    "dfnoheader=pd.read_csv('people3.dat',sep='\\t',header=None)\n",
    "print(dfnoheader)"
   ]
  },
  {
   "cell_type": "markdown",
   "id": "fbc74983",
   "metadata": {},
   "source": [
    "### Przykład + zadanie\n",
    "Wczytujemy do DataFrame zawartość pliku covid3.txt (separatorem są białe znaki (\\s+)) z danymi dotyczącymi zachorowań w Polsce na początku pandemii. W pliku znajdują się trzy kolumny: numer dnia poczynając od 2.01.2020, liczba potwierdzonych przypadków zachorowań i liczba osób, które wyzdrowiały. Dane z serwisu kaggle. Narysuj  zależność liczby zachorowań, liczby osób które wyzdrowiały i liczby aktualnie chorych w funkcji numeru dnia. Dodaj legendę."
   ]
  },
  {
   "cell_type": "code",
   "execution_count": null,
   "id": "646e2d8d-dccc-494f-b496-387e77a9acb3",
   "metadata": {
    "scrolled": true
   },
   "outputs": [],
   "source": [
    "# wczytujemy plik, gdzie separatorem jest jeden lub więcej białych znaków (\\s+)\n",
    "# W pliku covid3.txt znajdują \n",
    "dfcovid=pd.read_csv('covid3.txt',sep=r\"\\s+\",header=None)\n",
    "#print(dfcovid)\n",
    "# Dodajemy nagłówki\n",
    "headers=['nday','confirmed','recovered']\n",
    "dfcovid.columns=headers\n",
    "print(dfcovid)\n",
    "\n"
   ]
  },
  {
   "cell_type": "markdown",
   "id": "a8b0c691",
   "metadata": {},
   "source": [
    "### Zadanie 7\n",
    "Zmodyfikuj zadanie 5 tak, żeby dane były wczytywane do ramki danych z biblioteki Pandas"
   ]
  },
  {
   "cell_type": "code",
   "execution_count": null,
   "id": "4291f2da",
   "metadata": {},
   "outputs": [],
   "source": [
    "\n",
    "\n",
    "# Główna pętla\n",
    "for filename in filenames2:\n",
    "    data=pd.read_csv(filename,sep=r\"\\s+\",comment='#')\n",
    "    uwy=df[\"AppOut\"].tolist()\n",
    "    \n",
    "    \n",
    "    \n",
    "    "
   ]
  },
  {
   "cell_type": "markdown",
   "id": "f82d19af",
   "metadata": {},
   "source": [
    "## Wczytywanie pliku linia po linii"
   ]
  },
  {
   "cell_type": "code",
   "execution_count": null,
   "id": "b9002600",
   "metadata": {
    "scrolled": true
   },
   "outputs": [],
   "source": [
    "# Wczytanie całego pliku na raz\n",
    "\n",
    "print('Czytanie całego pliku na raz')\n",
    "\n",
    "with open('people2.dat', 'r') as plik1:\n",
    "        linie = plik1.readlines()\n",
    "print(linie)  \n",
    "print(len(linie))\n",
    "\n",
    "print(linie[0])\n",
    "print(linie[3])\n",
    "\n",
    "# strip() usuwa białe znaki na końcu i początku\n",
    "# split() dzieli na listę elementów (domyślnym separatorem jest spacja)\n",
    "# Jeżeli elementem listy jest liczba to trzeba jeszcze zrobić konwersję na typ liczbowy\n",
    "\n",
    "elem=linie[3].strip().split()\n",
    "\n",
    "print(elem)\n",
    "print(elem[0])\n",
    "\n",
    "napis=elem[3]\n",
    "liczba=int(elem[3])\n",
    "\n",
    "# A teraz wczytanie linia po linii\n",
    "\n",
    "print('Czytanie linia po linii')\n",
    "\n",
    "with open('people2.dat', 'r') as plik2:\n",
    "        while True:\n",
    "            linia = plik2.readline()\n",
    "            print(linia)\n",
    "            if not linia:  # Koniec pliku\n",
    "                break\n",
    "                \n",
    "# Czytanie linia po linii inaczej\n",
    "\n",
    "print('Czytanie linia po linii inaczej')\n",
    "\n",
    "with open('people2.dat','r') as plik3:\n",
    "    for line in plik3:\n",
    "        elem3=line.strip().split()\n",
    "        print(elem3)\n",
    "                \n",
    "                "
   ]
  },
  {
   "cell_type": "markdown",
   "id": "b980fa66",
   "metadata": {},
   "source": [
    "## Funkcja - generator\n",
    " * funkcja - generator zamiast return używa yield\n",
    " * nie zwraca wszystkiego na raz, ale wartości pobierane są stopniowo\n",
    " * bardzo użyteczna w przypadku operowania na dużych zbiorach danych -- pozwala na wczytywanie zawartości pliku po kawałku, bez dużego obciążania pamięci   \n",
    " "
   ]
  },
  {
   "cell_type": "markdown",
   "id": "0fd6e1b0",
   "metadata": {},
   "source": [
    "### Przykład: \n",
    "  * Standardowa funkcja vs funkcja - generator\n",
    "  * Funkcja zwraca kwadraty n kolejnych liczb całkowitych"
   ]
  },
  {
   "cell_type": "code",
   "execution_count": null,
   "id": "83e884e5",
   "metadata": {},
   "outputs": [],
   "source": [
    "# Standardowa funkcja\n",
    "\n",
    "def fun_std(n):\n",
    "    kwadraty=[]\n",
    "    for it in range(1,n):\n",
    "        kwadraty.append(it*it)\n",
    "    return kwadraty\n",
    "\n",
    "print(fun_std(6))\n",
    "\n",
    "# Skrócony zapis\n",
    "\n",
    "def fun_std2(n):\n",
    "    kwadraty=[it*it for it in range(1,n)]\n",
    "    return kwadraty\n",
    "\n",
    "print(fun_std2(6))\n",
    "    \n",
    "\n",
    "# Teraz funkcja-generator     \n",
    "    \n",
    "def fun_gen(n):\n",
    "    for it in range(1,n):\n",
    "        yield it*it\n",
    "\n",
    "wynik=fun_gen(6)\n",
    "for i in wynik:\n",
    "    print(i)\n",
    "    \n",
    "# Inaczej:\n",
    "\n",
    "gen=fun_gen(6)\n",
    "\n",
    "print(next(gen))\n",
    "print(next(gen))\n",
    "print(next(gen))\n",
    "# itd\n",
    "\n",
    "    "
   ]
  },
  {
   "cell_type": "markdown",
   "id": "34bce152",
   "metadata": {},
   "source": [
    "### Przykład i zadanie 8\n",
    "W katalogu Smash, w podkatalogach run1, run2 ... znajdują się pliki z wynikami symulacji zderzenia jąder atomowych:  outdir/particle_lists.oscar\n",
    "Struktura plików: komentarze zaczynają się od #; specjalny komentarz : #events xxx out yyy (numer zderzenia\n",
    "i liczba cząstek w zderzeniu), a potem yyy linijek z informacjami o cząstkach (pędy, ładunek ...)\n",
    "Liczymy średnią krotność ujemnie naładowanych cząstek w każdym pliku.\n",
    "\n",
    "Policz ile jest średnio, w każdym zderzeniu, cząstek o kodzie 211 (pion). Jaki jest ich rozkład (histogram) pędu ? "
   ]
  },
  {
   "cell_type": "code",
   "execution_count": null,
   "id": "c7f47a9a",
   "metadata": {},
   "outputs": [],
   "source": [
    "import glob\n",
    "pliki_smash=sorted(glob.glob('Smash/run*/outdir/particle_lists.oscar'))\n",
    "print(f'Mamy {len(pliki_smash)} plików')    \n",
    "print(pliki_smash)\n",
    "# wczytanie czterech pierwszych linii, żeby znaleźć liczbę cząstek\n",
    "\n",
    "def wczytaj(plik):\n",
    "   with open(plik, 'r') as file:\n",
    "       # Pętla po kolejnych sekwencjach: komentarz z liczba cząstek + tabela właściwości   \n",
    "       while True:\n",
    "            # Pomijanie komentarzy i znajdowanie liczby cząstek (= liczba wierszy w tabeli)\n",
    "            while True:\n",
    "                linia = file.readline()\n",
    "                if not linia:  # Koniec pliku\n",
    "                    return\n",
    "                liniasp = linia.strip().split()\n",
    "                #Można też tak:\n",
    "                #linia=linia.strip()\n",
    "                #if linia.startswith(\"#\") and liniasp[1]=='event' and liniasp[3]=='out': # Znaleziona liczba cząstek\n",
    "                if liniasp[0]==\"#\" and liniasp[1]=='event' and liniasp[3]=='out':  # Znaleziona liczba cząstek\n",
    "                    break\n",
    "            npart=int(liniasp[4])        \n",
    "            print(\"Liczba cząstek=\", npart) \n",
    "            tabela =[]\n",
    "            # Wczytujemy \n",
    "            for _ in range(npart):\n",
    "                while True:\n",
    "                    wiersz = file.readline()\n",
    "                    if not wiersz:  # Koniec pliku\n",
    "                        return\n",
    "                    wiersz = wiersz.strip()\n",
    "                    if not wiersz.startswith(\"#\"):  # Pomijamy komentarze\n",
    "                        break\n",
    "                tabela.append(wiersz.split())  # Dodajemy wiersz do tabeli\n",
    "            \n",
    "            yield tabela  # Za każdym wołaniem funkcji wczytaj zwracana będzie jedna tabela\n",
    "\n",
    "\n",
    "# tabgen=wczytaj(pliki_smash[0])\n",
    "\n",
    "# print(next(tabgen))\n",
    "\n",
    "for plikname in pliki_smash:\n",
    "\n",
    "  srednie=[]\n",
    "  for itab, tabela in enumerate(wczytaj(plikname)):\n",
    "  #for itab, tabela in enumerate(wczytaj(pliki_smash[0])):\n",
    "     print(f'Tabela {itab+1}')\n",
    "     ujemne=0\n",
    "     for wiersz in tabela:\n",
    "         if int(wiersz[11])==-1:\n",
    "             ujemne+=1;\n",
    "     print(\"Liczba cząstek ujemnych=\",ujemne)\n",
    "     srednie.append(ujemne)   \n",
    "     #Wypisywanie zawartości tabel\n",
    "     #for wiersz in tabela:\n",
    "     #    print(wiersz)\n",
    "     #print()\n",
    "     # lub print(tabela)    \n",
    "  srednienp=np.array(srednie) \n",
    "  print(srednienp)\n",
    "  print(f\"Średnia krotność ujemnych cząstek w pliku {plikname} to \", srednienp.mean())\n"
   ]
  },
  {
   "cell_type": "code",
   "execution_count": null,
   "id": "79f1729b",
   "metadata": {},
   "outputs": [],
   "source": [
    "# Sprawdzanie, czy plik istnieje\n",
    "import os\n",
    "print(\"Katalog roboczy = \",os.getcwd())  \n",
    "file_path = 'Smash/run1/outdir/particle_lists.oscar'\n",
    "\n",
    "if os.path.exists(file_path):\n",
    "   print(\"The file exists.\")\n",
    "else:\n",
    "   print(\"The file does not exist.\") \n"
   ]
  },
  {
   "cell_type": "markdown",
   "id": "08c14df5",
   "metadata": {},
   "source": [
    "### Przykład - tworzenie struktury katalogów"
   ]
  },
  {
   "cell_type": "code",
   "execution_count": null,
   "id": "fcac18cb",
   "metadata": {},
   "outputs": [],
   "source": [
    "# Tworzenie struktury katalogów kat1 kat1/kat3\n",
    "#for i in range(5):\n",
    "#   plik=f'kat{i}'\n",
    "#   if not os.path.exists(plik):\n",
    "#      os.makedirs(plik)\n",
    "#      os.chdir(plik) \n",
    "       "
   ]
  },
  {
   "cell_type": "code",
   "execution_count": null,
   "id": "3fa9ced6",
   "metadata": {},
   "outputs": [],
   "source": []
  }
 ],
 "metadata": {
  "kernelspec": {
   "display_name": "python myenv",
   "language": "python",
   "name": "myenv"
  },
  "language_info": {
   "codemirror_mode": {
    "name": "ipython",
    "version": 3
   },
   "file_extension": ".py",
   "mimetype": "text/x-python",
   "name": "python",
   "nbconvert_exporter": "python",
   "pygments_lexer": "ipython3",
   "version": "3.12.3"
  }
 },
 "nbformat": 4,
 "nbformat_minor": 5
}
